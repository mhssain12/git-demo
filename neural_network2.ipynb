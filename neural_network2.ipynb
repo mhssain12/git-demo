{
  "nbformat": 4,
  "nbformat_minor": 0,
  "metadata": {
    "kernelspec": {
      "name": "python3",
      "display_name": "Python 3"
    },
    "language_info": {
      "codemirror_mode": {
        "name": "ipython",
        "version": 3
      },
      "file_extension": ".py",
      "mimetype": "text/x-python",
      "name": "python",
      "nbconvert_exporter": "python",
      "pygments_lexer": "ipython3",
      "version": "3.7.3"
    },
    "colab": {
      "name": "neural_network2.ipynb",
      "provenance": [],
      "machine_shape": "hm",
      "include_colab_link": true
    },
    "accelerator": "GPU"
  },
  "cells": [
    {
      "cell_type": "markdown",
      "metadata": {
        "id": "view-in-github",
        "colab_type": "text"
      },
      "source": [
        "<a href=\"https://colab.research.google.com/github/mhssain12/git-demo/blob/master/neural_network2.ipynb\" target=\"_parent\"><img src=\"https://colab.research.google.com/assets/colab-badge.svg\" alt=\"Open In Colab\"/></a>"
      ]
    },
    {
      "cell_type": "code",
      "metadata": {
        "id": "ZT_ShKOgG5zQ",
        "colab_type": "code",
        "colab": {
          "base_uri": "https://localhost:8080/",
          "height": 81
        },
        "outputId": "7947598a-7c74-4265-cf43-1419bb70dd36"
      },
      "source": [
        "import pandas as pd\n",
        "import numpy as np\n",
        "import datetime\n",
        "#import dateuntil\n",
        "#import pandas\n",
        "import csv\n",
        "from pandas import DataFrame\n",
        "import matplotlib.pyplot as plt\n",
        "from matplotlib.dates import DateFormatter\n",
        "import matplotlib.dates as mdates\n",
        "from sklearn.preprocessing import MinMaxScaler\n",
        "#data = pd.read_csv('solar irradiance data.csv')\n",
        "#irradiance=pd.read_csv('irradiance.csv', parse_dates=[\"Date\"], index_col=\"Date\")\n",
        "#irradiance['Date'] = pd.to_date(irradiance['Date'])\n",
        "\n",
        "\n",
        "import tensorflow as tf\n"
      ],
      "execution_count": 2,
      "outputs": [
        {
          "output_type": "display_data",
          "data": {
            "text/html": [
              "<p style=\"color: red;\">\n",
              "The default version of TensorFlow in Colab will soon switch to TensorFlow 2.x.<br>\n",
              "We recommend you <a href=\"https://www.tensorflow.org/guide/migrate\" target=\"_blank\">upgrade</a> now \n",
              "or ensure your notebook will continue to use TensorFlow 1.x via the <code>%tensorflow_version 1.x</code> magic:\n",
              "<a href=\"https://colab.research.google.com/notebooks/tensorflow_version.ipynb\" target=\"_blank\">more info</a>.</p>\n"
            ],
            "text/plain": [
              "<IPython.core.display.HTML object>"
            ]
          },
          "metadata": {
            "tags": []
          }
        }
      ]
    },
    {
      "cell_type": "code",
      "metadata": {
        "id": "iPj-UsW_qpYj",
        "colab_type": "code",
        "colab": {
          "base_uri": "https://localhost:8080/",
          "height": 627
        },
        "outputId": "569cbd07-c516-4c92-a9bf-53866ea6491c"
      },
      "source": [
        "!pip install tf-nightly-gpu-2.0-preview"
      ],
      "execution_count": 4,
      "outputs": [
        {
          "output_type": "stream",
          "text": [
            "Requirement already satisfied: tf-nightly-gpu-2.0-preview in /usr/local/lib/python3.6/dist-packages (2.0.0.dev20191002)\n",
            "Requirement already satisfied: keras-applications>=1.0.8 in /usr/local/lib/python3.6/dist-packages (from tf-nightly-gpu-2.0-preview) (1.0.8)\n",
            "Requirement already satisfied: wrapt>=1.11.1 in /usr/local/lib/python3.6/dist-packages (from tf-nightly-gpu-2.0-preview) (1.11.2)\n",
            "Requirement already satisfied: protobuf>=3.6.1 in /usr/local/lib/python3.6/dist-packages (from tf-nightly-gpu-2.0-preview) (3.10.0)\n",
            "Requirement already satisfied: wheel>=0.26; python_version >= \"3\" in /usr/local/lib/python3.6/dist-packages (from tf-nightly-gpu-2.0-preview) (0.33.6)\n",
            "Requirement already satisfied: opt-einsum>=2.3.2 in /usr/local/lib/python3.6/dist-packages (from tf-nightly-gpu-2.0-preview) (3.1.0)\n",
            "Requirement already satisfied: tb-nightly<2.2.0a0,>=2.1.0a0 in /usr/local/lib/python3.6/dist-packages (from tf-nightly-gpu-2.0-preview) (2.1.0a20191206)\n",
            "Requirement already satisfied: astor>=0.6.0 in /usr/local/lib/python3.6/dist-packages (from tf-nightly-gpu-2.0-preview) (0.8.1)\n",
            "Requirement already satisfied: termcolor>=1.1.0 in /usr/local/lib/python3.6/dist-packages (from tf-nightly-gpu-2.0-preview) (1.1.0)\n",
            "Requirement already satisfied: six>=1.10.0 in /usr/local/lib/python3.6/dist-packages (from tf-nightly-gpu-2.0-preview) (1.12.0)\n",
            "Requirement already satisfied: absl-py>=0.7.0 in /usr/local/lib/python3.6/dist-packages (from tf-nightly-gpu-2.0-preview) (0.8.1)\n",
            "Requirement already satisfied: keras-preprocessing>=1.0.5 in /usr/local/lib/python3.6/dist-packages (from tf-nightly-gpu-2.0-preview) (1.1.0)\n",
            "Requirement already satisfied: numpy<2.0,>=1.16.0 in /usr/local/lib/python3.6/dist-packages (from tf-nightly-gpu-2.0-preview) (1.17.4)\n",
            "Requirement already satisfied: grpcio>=1.8.6 in /usr/local/lib/python3.6/dist-packages (from tf-nightly-gpu-2.0-preview) (1.15.0)\n",
            "Requirement already satisfied: tensorflow-estimator-2.0-preview in /usr/local/lib/python3.6/dist-packages (from tf-nightly-gpu-2.0-preview) (2.0.0)\n",
            "Requirement already satisfied: gast==0.2.2 in /usr/local/lib/python3.6/dist-packages (from tf-nightly-gpu-2.0-preview) (0.2.2)\n",
            "Requirement already satisfied: google-pasta>=0.1.6 in /usr/local/lib/python3.6/dist-packages (from tf-nightly-gpu-2.0-preview) (0.1.8)\n",
            "Requirement already satisfied: h5py in /usr/local/lib/python3.6/dist-packages (from keras-applications>=1.0.8->tf-nightly-gpu-2.0-preview) (2.8.0)\n",
            "Requirement already satisfied: setuptools in /usr/local/lib/python3.6/dist-packages (from protobuf>=3.6.1->tf-nightly-gpu-2.0-preview) (42.0.2)\n",
            "Requirement already satisfied: google-auth<2,>=1.6.3 in /usr/local/lib/python3.6/dist-packages (from tb-nightly<2.2.0a0,>=2.1.0a0->tf-nightly-gpu-2.0-preview) (1.10.0)\n",
            "Requirement already satisfied: werkzeug>=0.11.15 in /usr/local/lib/python3.6/dist-packages (from tb-nightly<2.2.0a0,>=2.1.0a0->tf-nightly-gpu-2.0-preview) (0.16.0)\n",
            "Requirement already satisfied: markdown>=2.6.8 in /usr/local/lib/python3.6/dist-packages (from tb-nightly<2.2.0a0,>=2.1.0a0->tf-nightly-gpu-2.0-preview) (3.1.1)\n",
            "Requirement already satisfied: google-auth-oauthlib<0.5,>=0.4.1 in /usr/local/lib/python3.6/dist-packages (from tb-nightly<2.2.0a0,>=2.1.0a0->tf-nightly-gpu-2.0-preview) (0.4.1)\n",
            "Requirement already satisfied: requests<3,>=2.21.0 in /usr/local/lib/python3.6/dist-packages (from tb-nightly<2.2.0a0,>=2.1.0a0->tf-nightly-gpu-2.0-preview) (2.21.0)\n",
            "Requirement already satisfied: rsa<4.1,>=3.1.4 in /usr/local/lib/python3.6/dist-packages (from google-auth<2,>=1.6.3->tb-nightly<2.2.0a0,>=2.1.0a0->tf-nightly-gpu-2.0-preview) (4.0)\n",
            "Requirement already satisfied: cachetools<5.0,>=2.0.0 in /usr/local/lib/python3.6/dist-packages (from google-auth<2,>=1.6.3->tb-nightly<2.2.0a0,>=2.1.0a0->tf-nightly-gpu-2.0-preview) (4.0.0)\n",
            "Requirement already satisfied: pyasn1-modules>=0.2.1 in /usr/local/lib/python3.6/dist-packages (from google-auth<2,>=1.6.3->tb-nightly<2.2.0a0,>=2.1.0a0->tf-nightly-gpu-2.0-preview) (0.2.7)\n",
            "Requirement already satisfied: requests-oauthlib>=0.7.0 in /usr/local/lib/python3.6/dist-packages (from google-auth-oauthlib<0.5,>=0.4.1->tb-nightly<2.2.0a0,>=2.1.0a0->tf-nightly-gpu-2.0-preview) (1.3.0)\n",
            "Requirement already satisfied: chardet<3.1.0,>=3.0.2 in /usr/local/lib/python3.6/dist-packages (from requests<3,>=2.21.0->tb-nightly<2.2.0a0,>=2.1.0a0->tf-nightly-gpu-2.0-preview) (3.0.4)\n",
            "Requirement already satisfied: urllib3<1.25,>=1.21.1 in /usr/local/lib/python3.6/dist-packages (from requests<3,>=2.21.0->tb-nightly<2.2.0a0,>=2.1.0a0->tf-nightly-gpu-2.0-preview) (1.24.3)\n",
            "Requirement already satisfied: idna<2.9,>=2.5 in /usr/local/lib/python3.6/dist-packages (from requests<3,>=2.21.0->tb-nightly<2.2.0a0,>=2.1.0a0->tf-nightly-gpu-2.0-preview) (2.8)\n",
            "Requirement already satisfied: certifi>=2017.4.17 in /usr/local/lib/python3.6/dist-packages (from requests<3,>=2.21.0->tb-nightly<2.2.0a0,>=2.1.0a0->tf-nightly-gpu-2.0-preview) (2019.11.28)\n",
            "Requirement already satisfied: pyasn1>=0.1.3 in /usr/local/lib/python3.6/dist-packages (from rsa<4.1,>=3.1.4->google-auth<2,>=1.6.3->tb-nightly<2.2.0a0,>=2.1.0a0->tf-nightly-gpu-2.0-preview) (0.4.8)\n",
            "Requirement already satisfied: oauthlib>=3.0.0 in /usr/local/lib/python3.6/dist-packages (from requests-oauthlib>=0.7.0->google-auth-oauthlib<0.5,>=0.4.1->tb-nightly<2.2.0a0,>=2.1.0a0->tf-nightly-gpu-2.0-preview) (3.1.0)\n"
          ],
          "name": "stdout"
        }
      ]
    },
    {
      "cell_type": "code",
      "metadata": {
        "id": "xqnm3rYHxwpB",
        "colab_type": "code",
        "outputId": "88661e8d-7d12-49e1-8146-9965eb70f32a",
        "colab": {
          "base_uri": "https://localhost:8080/",
          "height": 35
        }
      },
      "source": [
        "import tensorflow as tf\n",
        "tf.test.gpu_device_name()"
      ],
      "execution_count": 3,
      "outputs": [
        {
          "output_type": "execute_result",
          "data": {
            "text/plain": [
              "'/device:GPU:0'"
            ]
          },
          "metadata": {
            "tags": []
          },
          "execution_count": 3
        }
      ]
    },
    {
      "cell_type": "code",
      "metadata": {
        "id": "6HWcfpO81wE8",
        "colab_type": "code",
        "colab": {}
      },
      "source": [
        "# drive.mount(\"/content/drive\", force_remount=True)"
      ],
      "execution_count": 0,
      "outputs": []
    },
    {
      "cell_type": "code",
      "metadata": {
        "id": "2LhIBj6k1xrE",
        "colab_type": "code",
        "outputId": "e8f7f02d-7afe-4c59-9fa5-4708299f65fb",
        "colab": {
          "base_uri": "https://localhost:8080/",
          "height": 124
        }
      },
      "source": [
        "from google.colab import drive\n",
        "drive.mount('/content/drive')\n",
        "\n"
      ],
      "execution_count": 1,
      "outputs": [
        {
          "output_type": "stream",
          "text": [
            "Go to this URL in a browser: https://accounts.google.com/o/oauth2/auth?client_id=947318989803-6bn6qk8qdgf4n4g3pfee6491hc0brc4i.apps.googleusercontent.com&redirect_uri=urn%3aietf%3awg%3aoauth%3a2.0%3aoob&response_type=code&scope=email%20https%3a%2f%2fwww.googleapis.com%2fauth%2fdocs.test%20https%3a%2f%2fwww.googleapis.com%2fauth%2fdrive%20https%3a%2f%2fwww.googleapis.com%2fauth%2fdrive.photos.readonly%20https%3a%2f%2fwww.googleapis.com%2fauth%2fpeopleapi.readonly\n",
            "\n",
            "Enter your authorization code:\n",
            "··········\n",
            "Mounted at /content/drive\n"
          ],
          "name": "stdout"
        }
      ]
    },
    {
      "cell_type": "code",
      "metadata": {
        "id": "AeAPHZXtyXhF",
        "colab_type": "code",
        "outputId": "ab3008fa-593e-437f-e34e-0b8e9bd9c4e7",
        "colab": {
          "base_uri": "https://localhost:8080/",
          "height": 35
        }
      },
      "source": [
        "# from tensorflow.python.client import device_lib\n",
        "# device_lib.list_local_devices()\n",
        "drive.mount(\"/content/drive\", force_remount=True)\n"
      ],
      "execution_count": 8,
      "outputs": [
        {
          "output_type": "stream",
          "text": [
            "Mounted at /content/drive\n"
          ],
          "name": "stdout"
        }
      ]
    },
    {
      "cell_type": "code",
      "metadata": {
        "id": "yHEItyM-zMKX",
        "colab_type": "code",
        "colab": {}
      },
      "source": [
        "# !cat /proc/meminfo\n",
        "# !cat /proc/cpuinfo"
      ],
      "execution_count": 0,
      "outputs": []
    },
    {
      "cell_type": "code",
      "metadata": {
        "id": "-IulvyeDG5zV",
        "colab_type": "code",
        "colab": {}
      },
      "source": [
        "from tensorflow.python.keras.models import Sequential\n",
        "from tensorflow.python.keras.layers import Input, Dense, GRU, Embedding\n",
        "from tensorflow.python.keras.optimizers import RMSprop\n",
        "from tensorflow.python.keras.callbacks import EarlyStopping, ModelCheckpoint, TensorBoard, ReduceLROnPlateau"
      ],
      "execution_count": 0,
      "outputs": []
    },
    {
      "cell_type": "code",
      "metadata": {
        "id": "NTSkKK3cG5zX",
        "colab_type": "code",
        "colab": {}
      },
      "source": [
        "# columns = pd.MultiIndex.from_product([['SRRL', 'NVTFIR', 'STAC', 'NFC', 'SUA'], ['W/m^2', 'Temp']])\n",
        "# irradiance=pd.read_csv(\"/content/SRRL.csv\") \n",
        "irradiance=pd.read_csv(\"/content/drive/My Drive/MLproject/SRRL.csv\") "
      ],
      "execution_count": 0,
      "outputs": []
    },
    {
      "cell_type": "code",
      "metadata": {
        "id": "3oT21dcGG5za",
        "colab_type": "code",
        "outputId": "9a387c43-8ee2-462b-9056-a5b1808134c0",
        "colab": {
          "base_uri": "https://localhost:8080/",
          "height": 35
        }
      },
      "source": [
        "tf.__version__"
      ],
      "execution_count": 7,
      "outputs": [
        {
          "output_type": "execute_result",
          "data": {
            "text/plain": [
              "'1.15.0'"
            ]
          },
          "metadata": {
            "tags": []
          },
          "execution_count": 7
        }
      ]
    },
    {
      "cell_type": "code",
      "metadata": {
        "id": "SDou_9mKG5z9",
        "colab_type": "code",
        "colab": {}
      },
      "source": [
        "# with open('/content/dataonly.csv', newline='') as csvfile:\n",
        "with open('/content/drive/My Drive/MLproject/dataonly.csv', newline='') as csvfile:\n",
        "    data = list(csv.reader(csvfile))\n",
        "    \n",
        "#data.shape()"
      ],
      "execution_count": 0,
      "outputs": []
    },
    {
      "cell_type": "code",
      "metadata": {
        "id": "yUTxv1FfG50C",
        "colab_type": "code",
        "colab": {}
      },
      "source": [
        "# irr= pd.DataFrame(pd.read_csv('SRRL.csv'))\n",
        "irradiance.set_index(['Date', 'Time'], inplace=True)\n"
      ],
      "execution_count": 0,
      "outputs": []
    },
    {
      "cell_type": "code",
      "metadata": {
        "id": "t9OPaJjHG50I",
        "colab_type": "code",
        "colab": {}
      },
      "source": [
        "irradiance.head(5)\n",
        "index=irradiance.index\n",
        "columns = pd.MultiIndex.from_product([['SRRL','NVTFIR','STAC','NFC','SUA'], ['W/m^2','Temp']])\n",
        "# irr=np.array(pd.read_csv(\"dataonly.csv\"))\n",
        "irr_data = pd.DataFrame(data, index=index, columns=columns)\n"
      ],
      "execution_count": 0,
      "outputs": []
    },
    {
      "cell_type": "code",
      "metadata": {
        "id": "UcYFASmhG50N",
        "colab_type": "code",
        "outputId": "f0cf205d-96c0-41e7-a60a-218549e263c1",
        "colab": {
          "base_uri": "https://localhost:8080/",
          "height": 35
        }
      },
      "source": [
        "irr_data['SRRL']['W/m^2']['11/20/2018'].shape"
      ],
      "execution_count": 11,
      "outputs": [
        {
          "output_type": "execute_result",
          "data": {
            "text/plain": [
              "(1440,)"
            ]
          },
          "metadata": {
            "tags": []
          },
          "execution_count": 11
        }
      ]
    },
    {
      "cell_type": "code",
      "metadata": {
        "id": "OBtkDQA4G50S",
        "colab_type": "code",
        "colab": {}
      },
      "source": [
        "irr_data.head(5)\n",
        "#ealth_data.shape\n",
        "\n",
        "irr_data.drop(('STAC', 'W/m^2'), axis=1, inplace=True)\n",
        "irr_data.drop(('STAC', 'Temp'), axis=1, inplace=True)\n",
        "irr_data.drop(('NFC', 'W/m^2'), axis=1, inplace=True)\n",
        "irr_data.drop(('NFC', 'Temp'), axis=1, inplace=True)\n",
        "irr_data.drop(('SUA', 'Temp'), axis=1, inplace=True)\n",
        "irr_data.drop(('SUA', 'W/m^2'), axis=1, inplace=True)\n"
      ],
      "execution_count": 0,
      "outputs": []
    },
    {
      "cell_type": "code",
      "metadata": {
        "id": "fJDm-S9AG50Y",
        "colab_type": "code",
        "outputId": "fb88ed23-adc6-425e-eaa7-c123ae8ea1aa",
        "colab": {
          "base_uri": "https://localhost:8080/",
          "height": 173
        }
      },
      "source": [
        "df=irr_data.astype(float)\n",
        "df['SRRL']['W/m^2'].describe()"
      ],
      "execution_count": 13,
      "outputs": [
        {
          "output_type": "execute_result",
          "data": {
            "text/plain": [
              "count    527040.000000\n",
              "mean        191.351316\n",
              "std         285.610154\n",
              "min          -4.547070\n",
              "25%          -0.637054\n",
              "50%           4.941690\n",
              "75%         321.226000\n",
              "max        1473.880000\n",
              "Name: W/m^2, dtype: float64"
            ]
          },
          "metadata": {
            "tags": []
          },
          "execution_count": 13
        }
      ]
    },
    {
      "cell_type": "code",
      "metadata": {
        "id": "rlBn1Gc6G50e",
        "colab_type": "code",
        "outputId": "59d734d7-d2e7-462c-b018-2e2b2e29d6e6",
        "colab": {
          "base_uri": "https://localhost:8080/",
          "height": 173
        }
      },
      "source": [
        "df['NVTFIR']['W/m^2'].describe()\n"
      ],
      "execution_count": 14,
      "outputs": [
        {
          "output_type": "execute_result",
          "data": {
            "text/plain": [
              "count    527040.000000\n",
              "mean        177.276668\n",
              "std         263.997468\n",
              "min           0.000000\n",
              "25%           0.074048\n",
              "50%           4.327415\n",
              "75%         299.696750\n",
              "max        1437.550000\n",
              "Name: W/m^2, dtype: float64"
            ]
          },
          "metadata": {
            "tags": []
          },
          "execution_count": 14
        }
      ]
    },
    {
      "cell_type": "code",
      "metadata": {
        "id": "iCOa24XuG50j",
        "colab_type": "code",
        "outputId": "28afcfda-4f69-4ecb-f184-c34512738813",
        "colab": {
          "base_uri": "https://localhost:8080/",
          "height": 297
        }
      },
      "source": [
        "df['SRRL']['Temp'].plot()"
      ],
      "execution_count": 15,
      "outputs": [
        {
          "output_type": "execute_result",
          "data": {
            "text/plain": [
              "<matplotlib.axes._subplots.AxesSubplot at 0x7fb6492d6ef0>"
            ]
          },
          "metadata": {
            "tags": []
          },
          "execution_count": 15
        },
        {
          "output_type": "display_data",
          "data": {
            "image/png": "[encoded data removed]",
            "text/plain": [
              "<Figure size 432x288 with 1 Axes>"
            ]
          },
          "metadata": {
            "tags": []
          }
        }
      ]
    },
    {
      "cell_type": "code",
      "metadata": {
        "id": "o6Hk85hyG50p",
        "colab_type": "code",
        "outputId": "fb6876d6-da10-4a87-e827-c8c46780c562",
        "colab": {
          "base_uri": "https://localhost:8080/",
          "height": 139
        }
      },
      "source": [
        "df.values\n",
        "# c1=df.columns.get_level_values(1)\n",
        "# c0=df.columns.get_level_values(0)\n",
        "# c1[0:7]\n",
        "# c0 [0:7]"
      ],
      "execution_count": 16,
      "outputs": [
        {
          "output_type": "execute_result",
          "data": {
            "text/plain": [
              "array([[-0.455377,  2.332   ,  0.111212,  1.906   ],\n",
              "       [-0.416394,  2.331   ,  0.074142,  1.859   ],\n",
              "       [-0.447358,  2.348   ,  0.037071,  1.829   ],\n",
              "       ...,\n",
              "       [-1.17693 , 12.89    ,  0.037044, 12.69    ],\n",
              "       [-1.17728 , 12.89    ,  0.074088, 12.67    ],\n",
              "       [-1.17782 , 12.82    ,  0.111132, 12.68    ]])"
            ]
          },
          "metadata": {
            "tags": []
          },
          "execution_count": 16
        }
      ]
    },
    {
      "cell_type": "code",
      "metadata": {
        "id": "_vrzVdybG50u",
        "colab_type": "code",
        "colab": {}
      },
      "source": [
        ""
      ],
      "execution_count": 0,
      "outputs": []
    },
    {
      "cell_type": "code",
      "metadata": {
        "id": "MMvfZhy7G50x",
        "colab_type": "code",
        "colab": {}
      },
      "source": [
        "l0 = irradiance.index.get_level_values(0)\n",
        "l1 = irradiance.index.get_level_values(1)\n",
        "# l1"
      ],
      "execution_count": 0,
      "outputs": []
    },
    {
      "cell_type": "code",
      "metadata": {
        "id": "ZNpEi0C_G501",
        "colab_type": "code",
        "colab": {}
      },
      "source": [
        "df=df.loc[pd.IndexSlice[:, l1[420:1009]], :]\n",
        "# df=df.loc[pd.IndexSlice[:, l1[420:901]], pd.IndexSlice[c0[0:7][:],c1[0:7][:]]]\n",
        "# df=df.loc[pd.IndexSlice[:, l1[420:901]], columns.get_level_values(1).isin({\"W/m^2\", \"Temp\"}) ]\n"
      ],
      "execution_count": 0,
      "outputs": []
    },
    {
      "cell_type": "code",
      "metadata": {
        "id": "xhNSFIVfG505",
        "colab_type": "code",
        "outputId": "589620bb-f3cd-46f1-a015-b0691fa4871c",
        "colab": {
          "base_uri": "https://localhost:8080/",
          "height": 263
        }
      },
      "source": [
        "df.tail()\n"
      ],
      "execution_count": 19,
      "outputs": [
        {
          "output_type": "execute_result",
          "data": {
            "text/html": [
              "<div>\n",
              "<style scoped>\n",
              "    .dataframe tbody tr th:only-of-type {\n",
              "        vertical-align: middle;\n",
              "    }\n",
              "\n",
              "    .dataframe tbody tr th {\n",
              "        vertical-align: top;\n",
              "    }\n",
              "\n",
              "    .dataframe thead tr th {\n",
              "        text-align: left;\n",
              "    }\n",
              "\n",
              "    .dataframe thead tr:last-of-type th {\n",
              "        text-align: right;\n",
              "    }\n",
              "</style>\n",
              "<table border=\"1\" class=\"dataframe\">\n",
              "  <thead>\n",
              "    <tr>\n",
              "      <th></th>\n",
              "      <th></th>\n",
              "      <th colspan=\"2\" halign=\"left\">SRRL</th>\n",
              "      <th colspan=\"2\" halign=\"left\">NVTFIR</th>\n",
              "    </tr>\n",
              "    <tr>\n",
              "      <th></th>\n",
              "      <th></th>\n",
              "      <th>W/m^2</th>\n",
              "      <th>Temp</th>\n",
              "      <th>W/m^2</th>\n",
              "      <th>Temp</th>\n",
              "    </tr>\n",
              "    <tr>\n",
              "      <th>Date</th>\n",
              "      <th>Time</th>\n",
              "      <th></th>\n",
              "      <th></th>\n",
              "      <th></th>\n",
              "      <th></th>\n",
              "    </tr>\n",
              "  </thead>\n",
              "  <tbody>\n",
              "    <tr>\n",
              "      <th rowspan=\"5\" valign=\"top\">11/17/2019</th>\n",
              "      <th>16:44</th>\n",
              "      <td>5.19640</td>\n",
              "      <td>13.22</td>\n",
              "      <td>5.29127</td>\n",
              "      <td>12.83</td>\n",
              "    </tr>\n",
              "    <tr>\n",
              "      <th>16:45</th>\n",
              "      <td>4.78308</td>\n",
              "      <td>13.19</td>\n",
              "      <td>5.18042</td>\n",
              "      <td>12.76</td>\n",
              "    </tr>\n",
              "    <tr>\n",
              "      <th>16:46</th>\n",
              "      <td>4.66087</td>\n",
              "      <td>13.17</td>\n",
              "      <td>5.18044</td>\n",
              "      <td>12.77</td>\n",
              "    </tr>\n",
              "    <tr>\n",
              "      <th>16:47</th>\n",
              "      <td>4.62474</td>\n",
              "      <td>13.17</td>\n",
              "      <td>5.18050</td>\n",
              "      <td>12.63</td>\n",
              "    </tr>\n",
              "    <tr>\n",
              "      <th>16:48</th>\n",
              "      <td>4.51982</td>\n",
              "      <td>13.14</td>\n",
              "      <td>5.18052</td>\n",
              "      <td>12.58</td>\n",
              "    </tr>\n",
              "  </tbody>\n",
              "</table>\n",
              "</div>"
            ],
            "text/plain": [
              "                     SRRL          NVTFIR       \n",
              "                    W/m^2   Temp    W/m^2   Temp\n",
              "Date       Time                                 \n",
              "11/17/2019 16:44  5.19640  13.22  5.29127  12.83\n",
              "           16:45  4.78308  13.19  5.18042  12.76\n",
              "           16:46  4.66087  13.17  5.18044  12.77\n",
              "           16:47  4.62474  13.17  5.18050  12.63\n",
              "           16:48  4.51982  13.14  5.18052  12.58"
            ]
          },
          "metadata": {
            "tags": []
          },
          "execution_count": 19
        }
      ]
    },
    {
      "cell_type": "code",
      "metadata": {
        "scrolled": true,
        "id": "JC9yAW7ZG508",
        "colab_type": "code",
        "outputId": "a8fbaa65-7448-45da-eecf-b9ec12c31508",
        "colab": {
          "base_uri": "https://localhost:8080/",
          "height": 176
        }
      },
      "source": [
        "# df['Various', 'Min']=df.index.labels[1]\n",
        "# df['Various', 'Day']=df.index.labels[0]\n",
        "df['SRRL']['W/m^2']['11/17/2019'].shape\n",
        "k1=df.index.labels[0]\n",
        "l1 = irradiance.index.get_level_values(0)\n",
        "l1\n",
        "# l1"
      ],
      "execution_count": 20,
      "outputs": [
        {
          "output_type": "stream",
          "text": [
            "/usr/local/lib/python3.6/dist-packages/ipykernel_launcher.py:2: FutureWarning: .labels was deprecated in version 0.24.0. Use .codes instead.\n",
            "  \n"
          ],
          "name": "stderr"
        },
        {
          "output_type": "execute_result",
          "data": {
            "text/plain": [
              "Index(['11/17/2018', '11/17/2018', '11/17/2018', '11/17/2018', '11/17/2018',\n",
              "       '11/17/2018', '11/17/2018', '11/17/2018', '11/17/2018', '11/17/2018',\n",
              "       ...\n",
              "       '11/17/2019', '11/17/2019', '11/17/2019', '11/17/2019', '11/17/2019',\n",
              "       '11/17/2019', '11/17/2019', '11/17/2019', '11/17/2019', '11/17/2019'],\n",
              "      dtype='object', name='Date', length=527040)"
            ]
          },
          "metadata": {
            "tags": []
          },
          "execution_count": 20
        }
      ]
    },
    {
      "cell_type": "code",
      "metadata": {
        "scrolled": true,
        "id": "gVTfBJy3G50-",
        "colab_type": "code",
        "outputId": "239a0aa8-c544-4c11-8262-2078784b632c",
        "colab": {
          "base_uri": "https://localhost:8080/",
          "height": 263
        }
      },
      "source": [
        "df.head()"
      ],
      "execution_count": 21,
      "outputs": [
        {
          "output_type": "execute_result",
          "data": {
            "text/html": [
              "<div>\n",
              "<style scoped>\n",
              "    .dataframe tbody tr th:only-of-type {\n",
              "        vertical-align: middle;\n",
              "    }\n",
              "\n",
              "    .dataframe tbody tr th {\n",
              "        vertical-align: top;\n",
              "    }\n",
              "\n",
              "    .dataframe thead tr th {\n",
              "        text-align: left;\n",
              "    }\n",
              "\n",
              "    .dataframe thead tr:last-of-type th {\n",
              "        text-align: right;\n",
              "    }\n",
              "</style>\n",
              "<table border=\"1\" class=\"dataframe\">\n",
              "  <thead>\n",
              "    <tr>\n",
              "      <th></th>\n",
              "      <th></th>\n",
              "      <th colspan=\"2\" halign=\"left\">SRRL</th>\n",
              "      <th colspan=\"2\" halign=\"left\">NVTFIR</th>\n",
              "    </tr>\n",
              "    <tr>\n",
              "      <th></th>\n",
              "      <th></th>\n",
              "      <th>W/m^2</th>\n",
              "      <th>Temp</th>\n",
              "      <th>W/m^2</th>\n",
              "      <th>Temp</th>\n",
              "    </tr>\n",
              "    <tr>\n",
              "      <th>Date</th>\n",
              "      <th>Time</th>\n",
              "      <th></th>\n",
              "      <th></th>\n",
              "      <th></th>\n",
              "      <th></th>\n",
              "    </tr>\n",
              "  </thead>\n",
              "  <tbody>\n",
              "    <tr>\n",
              "      <th rowspan=\"5\" valign=\"top\">11/17/2018</th>\n",
              "      <th>7:00</th>\n",
              "      <td>0.498039</td>\n",
              "      <td>-0.611</td>\n",
              "      <td>0.774490</td>\n",
              "      <td>-1.348</td>\n",
              "    </tr>\n",
              "    <tr>\n",
              "      <th>7:01</th>\n",
              "      <td>0.510486</td>\n",
              "      <td>-0.606</td>\n",
              "      <td>0.780422</td>\n",
              "      <td>-1.327</td>\n",
              "    </tr>\n",
              "    <tr>\n",
              "      <th>7:02</th>\n",
              "      <td>0.589566</td>\n",
              "      <td>-0.598</td>\n",
              "      <td>0.935084</td>\n",
              "      <td>-1.328</td>\n",
              "    </tr>\n",
              "    <tr>\n",
              "      <th>7:03</th>\n",
              "      <td>0.653437</td>\n",
              "      <td>-0.609</td>\n",
              "      <td>1.028650</td>\n",
              "      <td>-1.353</td>\n",
              "    </tr>\n",
              "    <tr>\n",
              "      <th>7:04</th>\n",
              "      <td>0.705921</td>\n",
              "      <td>-0.637</td>\n",
              "      <td>1.054780</td>\n",
              "      <td>-1.382</td>\n",
              "    </tr>\n",
              "  </tbody>\n",
              "</table>\n",
              "</div>"
            ],
            "text/plain": [
              "                     SRRL           NVTFIR       \n",
              "                    W/m^2   Temp     W/m^2   Temp\n",
              "Date       Time                                  \n",
              "11/17/2018 7:00  0.498039 -0.611  0.774490 -1.348\n",
              "           7:01  0.510486 -0.606  0.780422 -1.327\n",
              "           7:02  0.589566 -0.598  0.935084 -1.328\n",
              "           7:03  0.653437 -0.609  1.028650 -1.353\n",
              "           7:04  0.705921 -0.637  1.054780 -1.382"
            ]
          },
          "metadata": {
            "tags": []
          },
          "execution_count": 21
        }
      ]
    },
    {
      "cell_type": "code",
      "metadata": {
        "id": "D-suLLZLG51B",
        "colab_type": "code",
        "outputId": "b05bd9ca-7f15-4c99-ae87-e853ac32fc3f",
        "colab": {
          "base_uri": "https://localhost:8080/",
          "height": 35
        }
      },
      "source": [
        "df['SRRL']['W/m^2']['11/20/2018'].shape"
      ],
      "execution_count": 22,
      "outputs": [
        {
          "output_type": "execute_result",
          "data": {
            "text/plain": [
              "(589,)"
            ]
          },
          "metadata": {
            "tags": []
          },
          "execution_count": 22
        }
      ]
    },
    {
      "cell_type": "code",
      "metadata": {
        "id": "4s8gfq1fG51F",
        "colab_type": "code",
        "colab": {}
      },
      "source": [
        "# df['Various']['Day'].plot()"
      ],
      "execution_count": 0,
      "outputs": []
    },
    {
      "cell_type": "code",
      "metadata": {
        "id": "d9zoaqyjG51K",
        "colab_type": "code",
        "colab": {}
      },
      "source": [
        "target_station= 'SRRL'"
      ],
      "execution_count": 0,
      "outputs": []
    },
    {
      "cell_type": "code",
      "metadata": {
        "id": "ppB9Ze1vG51O",
        "colab_type": "code",
        "colab": {}
      },
      "source": [
        "target_names= ['W/m^2', 'Temp']"
      ],
      "execution_count": 0,
      "outputs": []
    },
    {
      "cell_type": "code",
      "metadata": {
        "id": "UH_Zk1lNG51R",
        "colab_type": "code",
        "colab": {}
      },
      "source": [
        "shift_days=1\n",
        "shift_steps= shift_days*589  #Number of minutes"
      ],
      "execution_count": 0,
      "outputs": []
    },
    {
      "cell_type": "code",
      "metadata": {
        "id": "9Ezzg8HAG51T",
        "colab_type": "code",
        "colab": {}
      },
      "source": [
        "df_targets = df[target_station][target_names].shift(-shift_steps)"
      ],
      "execution_count": 0,
      "outputs": []
    },
    {
      "cell_type": "code",
      "metadata": {
        "id": "dcyr43yuG51V",
        "colab_type": "code",
        "outputId": "d569e706-36fd-4423-d704-a849a5e223af",
        "colab": {
          "base_uri": "https://localhost:8080/",
          "height": 446
        }
      },
      "source": [
        "df[target_station][target_names].head(shift_steps + 5)"
      ],
      "execution_count": 28,
      "outputs": [
        {
          "output_type": "execute_result",
          "data": {
            "text/html": [
              "<div>\n",
              "<style scoped>\n",
              "    .dataframe tbody tr th:only-of-type {\n",
              "        vertical-align: middle;\n",
              "    }\n",
              "\n",
              "    .dataframe tbody tr th {\n",
              "        vertical-align: top;\n",
              "    }\n",
              "\n",
              "    .dataframe thead th {\n",
              "        text-align: right;\n",
              "    }\n",
              "</style>\n",
              "<table border=\"1\" class=\"dataframe\">\n",
              "  <thead>\n",
              "    <tr style=\"text-align: right;\">\n",
              "      <th></th>\n",
              "      <th></th>\n",
              "      <th>W/m^2</th>\n",
              "      <th>Temp</th>\n",
              "    </tr>\n",
              "    <tr>\n",
              "      <th>Date</th>\n",
              "      <th>Time</th>\n",
              "      <th></th>\n",
              "      <th></th>\n",
              "    </tr>\n",
              "  </thead>\n",
              "  <tbody>\n",
              "    <tr>\n",
              "      <th rowspan=\"5\" valign=\"top\">11/17/2018</th>\n",
              "      <th>7:00</th>\n",
              "      <td>0.498039</td>\n",
              "      <td>-0.611</td>\n",
              "    </tr>\n",
              "    <tr>\n",
              "      <th>7:01</th>\n",
              "      <td>0.510486</td>\n",
              "      <td>-0.606</td>\n",
              "    </tr>\n",
              "    <tr>\n",
              "      <th>7:02</th>\n",
              "      <td>0.589566</td>\n",
              "      <td>-0.598</td>\n",
              "    </tr>\n",
              "    <tr>\n",
              "      <th>7:03</th>\n",
              "      <td>0.653437</td>\n",
              "      <td>-0.609</td>\n",
              "    </tr>\n",
              "    <tr>\n",
              "      <th>7:04</th>\n",
              "      <td>0.705921</td>\n",
              "      <td>-0.637</td>\n",
              "    </tr>\n",
              "    <tr>\n",
              "      <th>...</th>\n",
              "      <th>...</th>\n",
              "      <td>...</td>\n",
              "      <td>...</td>\n",
              "    </tr>\n",
              "    <tr>\n",
              "      <th rowspan=\"5\" valign=\"top\">11/18/2018</th>\n",
              "      <th>7:00</th>\n",
              "      <td>28.519400</td>\n",
              "      <td>-6.983</td>\n",
              "    </tr>\n",
              "    <tr>\n",
              "      <th>7:01</th>\n",
              "      <td>30.686500</td>\n",
              "      <td>-6.957</td>\n",
              "    </tr>\n",
              "    <tr>\n",
              "      <th>7:02</th>\n",
              "      <td>33.135300</td>\n",
              "      <td>-6.914</td>\n",
              "    </tr>\n",
              "    <tr>\n",
              "      <th>7:03</th>\n",
              "      <td>35.501700</td>\n",
              "      <td>-6.771</td>\n",
              "    </tr>\n",
              "    <tr>\n",
              "      <th>7:04</th>\n",
              "      <td>37.631700</td>\n",
              "      <td>-6.724</td>\n",
              "    </tr>\n",
              "  </tbody>\n",
              "</table>\n",
              "<p>594 rows × 2 columns</p>\n",
              "</div>"
            ],
            "text/plain": [
              "                     W/m^2   Temp\n",
              "Date       Time                  \n",
              "11/17/2018 7:00   0.498039 -0.611\n",
              "           7:01   0.510486 -0.606\n",
              "           7:02   0.589566 -0.598\n",
              "           7:03   0.653437 -0.609\n",
              "           7:04   0.705921 -0.637\n",
              "...                    ...    ...\n",
              "11/18/2018 7:00  28.519400 -6.983\n",
              "           7:01  30.686500 -6.957\n",
              "           7:02  33.135300 -6.914\n",
              "           7:03  35.501700 -6.771\n",
              "           7:04  37.631700 -6.724\n",
              "\n",
              "[594 rows x 2 columns]"
            ]
          },
          "metadata": {
            "tags": []
          },
          "execution_count": 28
        }
      ]
    },
    {
      "cell_type": "code",
      "metadata": {
        "id": "t3DkaL1EG51b",
        "colab_type": "code",
        "outputId": "8abd0c75-acf8-4ebf-b2ea-f75da8f6cd60",
        "colab": {
          "base_uri": "https://localhost:8080/",
          "height": 233
        }
      },
      "source": [
        "df_targets.head(5)"
      ],
      "execution_count": 29,
      "outputs": [
        {
          "output_type": "execute_result",
          "data": {
            "text/html": [
              "<div>\n",
              "<style scoped>\n",
              "    .dataframe tbody tr th:only-of-type {\n",
              "        vertical-align: middle;\n",
              "    }\n",
              "\n",
              "    .dataframe tbody tr th {\n",
              "        vertical-align: top;\n",
              "    }\n",
              "\n",
              "    .dataframe thead th {\n",
              "        text-align: right;\n",
              "    }\n",
              "</style>\n",
              "<table border=\"1\" class=\"dataframe\">\n",
              "  <thead>\n",
              "    <tr style=\"text-align: right;\">\n",
              "      <th></th>\n",
              "      <th></th>\n",
              "      <th>W/m^2</th>\n",
              "      <th>Temp</th>\n",
              "    </tr>\n",
              "    <tr>\n",
              "      <th>Date</th>\n",
              "      <th>Time</th>\n",
              "      <th></th>\n",
              "      <th></th>\n",
              "    </tr>\n",
              "  </thead>\n",
              "  <tbody>\n",
              "    <tr>\n",
              "      <th rowspan=\"5\" valign=\"top\">11/17/2018</th>\n",
              "      <th>7:00</th>\n",
              "      <td>28.5194</td>\n",
              "      <td>-6.983</td>\n",
              "    </tr>\n",
              "    <tr>\n",
              "      <th>7:01</th>\n",
              "      <td>30.6865</td>\n",
              "      <td>-6.957</td>\n",
              "    </tr>\n",
              "    <tr>\n",
              "      <th>7:02</th>\n",
              "      <td>33.1353</td>\n",
              "      <td>-6.914</td>\n",
              "    </tr>\n",
              "    <tr>\n",
              "      <th>7:03</th>\n",
              "      <td>35.5017</td>\n",
              "      <td>-6.771</td>\n",
              "    </tr>\n",
              "    <tr>\n",
              "      <th>7:04</th>\n",
              "      <td>37.6317</td>\n",
              "      <td>-6.724</td>\n",
              "    </tr>\n",
              "  </tbody>\n",
              "</table>\n",
              "</div>"
            ],
            "text/plain": [
              "                   W/m^2   Temp\n",
              "Date       Time                \n",
              "11/17/2018 7:00  28.5194 -6.983\n",
              "           7:01  30.6865 -6.957\n",
              "           7:02  33.1353 -6.914\n",
              "           7:03  35.5017 -6.771\n",
              "           7:04  37.6317 -6.724"
            ]
          },
          "metadata": {
            "tags": []
          },
          "execution_count": 29
        }
      ]
    },
    {
      "cell_type": "code",
      "metadata": {
        "id": "XfTxSItoG51d",
        "colab_type": "code",
        "outputId": "f6193f16-1062-4bb9-f8d6-99de4b7bbf3e",
        "colab": {
          "base_uri": "https://localhost:8080/",
          "height": 233
        }
      },
      "source": [
        "df_targets.tail()"
      ],
      "execution_count": 30,
      "outputs": [
        {
          "output_type": "execute_result",
          "data": {
            "text/html": [
              "<div>\n",
              "<style scoped>\n",
              "    .dataframe tbody tr th:only-of-type {\n",
              "        vertical-align: middle;\n",
              "    }\n",
              "\n",
              "    .dataframe tbody tr th {\n",
              "        vertical-align: top;\n",
              "    }\n",
              "\n",
              "    .dataframe thead th {\n",
              "        text-align: right;\n",
              "    }\n",
              "</style>\n",
              "<table border=\"1\" class=\"dataframe\">\n",
              "  <thead>\n",
              "    <tr style=\"text-align: right;\">\n",
              "      <th></th>\n",
              "      <th></th>\n",
              "      <th>W/m^2</th>\n",
              "      <th>Temp</th>\n",
              "    </tr>\n",
              "    <tr>\n",
              "      <th>Date</th>\n",
              "      <th>Time</th>\n",
              "      <th></th>\n",
              "      <th></th>\n",
              "    </tr>\n",
              "  </thead>\n",
              "  <tbody>\n",
              "    <tr>\n",
              "      <th rowspan=\"5\" valign=\"top\">11/17/2019</th>\n",
              "      <th>16:44</th>\n",
              "      <td>NaN</td>\n",
              "      <td>NaN</td>\n",
              "    </tr>\n",
              "    <tr>\n",
              "      <th>16:45</th>\n",
              "      <td>NaN</td>\n",
              "      <td>NaN</td>\n",
              "    </tr>\n",
              "    <tr>\n",
              "      <th>16:46</th>\n",
              "      <td>NaN</td>\n",
              "      <td>NaN</td>\n",
              "    </tr>\n",
              "    <tr>\n",
              "      <th>16:47</th>\n",
              "      <td>NaN</td>\n",
              "      <td>NaN</td>\n",
              "    </tr>\n",
              "    <tr>\n",
              "      <th>16:48</th>\n",
              "      <td>NaN</td>\n",
              "      <td>NaN</td>\n",
              "    </tr>\n",
              "  </tbody>\n",
              "</table>\n",
              "</div>"
            ],
            "text/plain": [
              "                  W/m^2  Temp\n",
              "Date       Time              \n",
              "11/17/2019 16:44    NaN   NaN\n",
              "           16:45    NaN   NaN\n",
              "           16:46    NaN   NaN\n",
              "           16:47    NaN   NaN\n",
              "           16:48    NaN   NaN"
            ]
          },
          "metadata": {
            "tags": []
          },
          "execution_count": 30
        }
      ]
    },
    {
      "cell_type": "code",
      "metadata": {
        "id": "SZDmNvIEG51g",
        "colab_type": "code",
        "colab": {}
      },
      "source": [
        "x_data = df.values[0:-shift_steps]"
      ],
      "execution_count": 0,
      "outputs": []
    },
    {
      "cell_type": "code",
      "metadata": {
        "id": "mvsA4c4GG51j",
        "colab_type": "code",
        "outputId": "724b26af-d691-4e68-ea30-362132d0874e",
        "colab": {
          "base_uri": "https://localhost:8080/",
          "height": 52
        }
      },
      "source": [
        "print(type(x_data))\n",
        "print(\"Shape:\", x_data.shape)"
      ],
      "execution_count": 32,
      "outputs": [
        {
          "output_type": "stream",
          "text": [
            "<class 'numpy.ndarray'>\n",
            "Shape: (214985, 4)\n"
          ],
          "name": "stdout"
        }
      ]
    },
    {
      "cell_type": "code",
      "metadata": {
        "id": "5q-rP79iG51n",
        "colab_type": "code",
        "colab": {}
      },
      "source": [
        "y_data = df_targets.values[:-shift_steps]"
      ],
      "execution_count": 0,
      "outputs": []
    },
    {
      "cell_type": "code",
      "metadata": {
        "id": "guBcTPaNG51s",
        "colab_type": "code",
        "outputId": "c6bb5b0c-a361-49d4-9947-38432739c830",
        "colab": {
          "base_uri": "https://localhost:8080/",
          "height": 52
        }
      },
      "source": [
        "print(type(y_data))\n",
        "print(\"Shape:\", y_data.shape)"
      ],
      "execution_count": 34,
      "outputs": [
        {
          "output_type": "stream",
          "text": [
            "<class 'numpy.ndarray'>\n",
            "Shape: (214985, 2)\n"
          ],
          "name": "stdout"
        }
      ]
    },
    {
      "cell_type": "markdown",
      "metadata": {
        "id": "4COhpcVWG51u",
        "colab_type": "text"
      },
      "source": [
        "## This is the number of observations (aka. data-points or samples) in the data-set:"
      ]
    },
    {
      "cell_type": "code",
      "metadata": {
        "id": "Sjdz_mKeG51v",
        "colab_type": "code",
        "outputId": "449390a8-90d8-41fa-f7f6-93c226d4fc35",
        "colab": {
          "base_uri": "https://localhost:8080/",
          "height": 35
        }
      },
      "source": [
        "num_data = len(x_data)\n",
        "num_data"
      ],
      "execution_count": 35,
      "outputs": [
        {
          "output_type": "execute_result",
          "data": {
            "text/plain": [
              "214985"
            ]
          },
          "metadata": {
            "tags": []
          },
          "execution_count": 35
        }
      ]
    },
    {
      "cell_type": "code",
      "metadata": {
        "id": "Wib02LE1G51x",
        "colab_type": "code",
        "colab": {}
      },
      "source": [
        "train_split = 0.9"
      ],
      "execution_count": 0,
      "outputs": []
    },
    {
      "cell_type": "markdown",
      "metadata": {
        "id": "_65C2WDJG51y",
        "colab_type": "text"
      },
      "source": [
        "## This is the number of observations in the training-set:"
      ]
    },
    {
      "cell_type": "code",
      "metadata": {
        "id": "xrBOiU_2G51z",
        "colab_type": "code",
        "outputId": "f41fd9ae-3493-48e9-e7dd-0fee4cde044b",
        "colab": {
          "base_uri": "https://localhost:8080/",
          "height": 35
        }
      },
      "source": [
        "num_train = int(train_split * num_data)\n",
        "num_train"
      ],
      "execution_count": 37,
      "outputs": [
        {
          "output_type": "execute_result",
          "data": {
            "text/plain": [
              "193486"
            ]
          },
          "metadata": {
            "tags": []
          },
          "execution_count": 37
        }
      ]
    },
    {
      "cell_type": "markdown",
      "metadata": {
        "id": "QV2sQNnbG511",
        "colab_type": "text"
      },
      "source": [
        "## This is the number of observations in the test-set:"
      ]
    },
    {
      "cell_type": "code",
      "metadata": {
        "id": "MxgMweQYG511",
        "colab_type": "code",
        "outputId": "ba4869f7-4eb5-4885-ae95-3b728cff1bb3",
        "colab": {
          "base_uri": "https://localhost:8080/",
          "height": 35
        }
      },
      "source": [
        "num_test = num_data - num_train\n",
        "num_test"
      ],
      "execution_count": 38,
      "outputs": [
        {
          "output_type": "execute_result",
          "data": {
            "text/plain": [
              "21499"
            ]
          },
          "metadata": {
            "tags": []
          },
          "execution_count": 38
        }
      ]
    },
    {
      "cell_type": "markdown",
      "metadata": {
        "id": "RzIhSD7lG517",
        "colab_type": "text"
      },
      "source": [
        "##  These are the input-signals for the training- and test-sets:"
      ]
    },
    {
      "cell_type": "code",
      "metadata": {
        "id": "IFmUYekIG518",
        "colab_type": "code",
        "outputId": "8593f3f8-7611-4985-dfc6-95a3d54bce7c",
        "colab": {
          "base_uri": "https://localhost:8080/",
          "height": 35
        }
      },
      "source": [
        "x_train = x_data[0:num_train]\n",
        "x_test = x_data[num_train:]\n",
        "len(x_train) + len(x_test)"
      ],
      "execution_count": 39,
      "outputs": [
        {
          "output_type": "execute_result",
          "data": {
            "text/plain": [
              "214985"
            ]
          },
          "metadata": {
            "tags": []
          },
          "execution_count": 39
        }
      ]
    },
    {
      "cell_type": "markdown",
      "metadata": {
        "id": "MaU_0P-6G51_",
        "colab_type": "text"
      },
      "source": [
        "## These are the output-signals for the training- and test-sets:"
      ]
    },
    {
      "cell_type": "code",
      "metadata": {
        "id": "gUCrMGljG51_",
        "colab_type": "code",
        "outputId": "34ebf8cb-95b3-487e-9efd-ae734dcc306c",
        "colab": {
          "base_uri": "https://localhost:8080/",
          "height": 35
        }
      },
      "source": [
        "y_train = y_data[0:num_train]\n",
        "y_test = y_data[num_train:]\n",
        "len(y_train) + len(y_test)"
      ],
      "execution_count": 40,
      "outputs": [
        {
          "output_type": "execute_result",
          "data": {
            "text/plain": [
              "214985"
            ]
          },
          "metadata": {
            "tags": []
          },
          "execution_count": 40
        }
      ]
    },
    {
      "cell_type": "markdown",
      "metadata": {
        "id": "kubXKLHGG52C",
        "colab_type": "text"
      },
      "source": [
        "## This is the number of input-signals:"
      ]
    },
    {
      "cell_type": "code",
      "metadata": {
        "id": "L4yje_HzG52D",
        "colab_type": "code",
        "outputId": "0b34aea3-b6f0-4284-b04e-6ee89bd9f233",
        "colab": {
          "base_uri": "https://localhost:8080/",
          "height": 35
        }
      },
      "source": [
        "num_x_signals = x_data.shape[1]\n",
        "num_x_signals"
      ],
      "execution_count": 41,
      "outputs": [
        {
          "output_type": "execute_result",
          "data": {
            "text/plain": [
              "4"
            ]
          },
          "metadata": {
            "tags": []
          },
          "execution_count": 41
        }
      ]
    },
    {
      "cell_type": "markdown",
      "metadata": {
        "id": "goESGXfSG52E",
        "colab_type": "text"
      },
      "source": [
        "## This is the number of output-signals:"
      ]
    },
    {
      "cell_type": "code",
      "metadata": {
        "id": "727QiiGPG52F",
        "colab_type": "code",
        "outputId": "865b8375-7a3f-4805-ee22-c6df38879cae",
        "colab": {
          "base_uri": "https://localhost:8080/",
          "height": 35
        }
      },
      "source": [
        "num_y_signals = y_data.shape[1]\n",
        "num_y_signals"
      ],
      "execution_count": 42,
      "outputs": [
        {
          "output_type": "execute_result",
          "data": {
            "text/plain": [
              "2"
            ]
          },
          "metadata": {
            "tags": []
          },
          "execution_count": 42
        }
      ]
    },
    {
      "cell_type": "markdown",
      "metadata": {
        "id": "tTpy30TiG52H",
        "colab_type": "text"
      },
      "source": [
        "## Scaled data"
      ]
    },
    {
      "cell_type": "markdown",
      "metadata": {
        "id": "QrEnP3F1G52H",
        "colab_type": "text"
      },
      "source": [
        "#### The data-set contains a wide range of values:"
      ]
    },
    {
      "cell_type": "code",
      "metadata": {
        "id": "s-JHeN2JG52I",
        "colab_type": "code",
        "outputId": "c193cb3f-3397-42f7-ecd5-70fdefb378d5",
        "colab": {
          "base_uri": "https://localhost:8080/",
          "height": 0
        }
      },
      "source": [
        "print(\"Min:\", np.min(x_train))\n",
        "print(\"Max:\", np.max(x_train))"
      ],
      "execution_count": 43,
      "outputs": [
        {
          "output_type": "stream",
          "text": [
            "Min: -22.66\n",
            "Max: 1473.88\n"
          ],
          "name": "stdout"
        }
      ]
    },
    {
      "cell_type": "markdown",
      "metadata": {
        "id": "qq53Ch56G52K",
        "colab_type": "text"
      },
      "source": [
        "The neural network works best on values roughly between -1 and 1, so we need to scale the data before it is being input to the neural network. We can use scikit-learn for this.\n",
        "\n",
        "We first create a scaler-object for the input-signals."
      ]
    },
    {
      "cell_type": "code",
      "metadata": {
        "id": "13jrtFrWG52N",
        "colab_type": "code",
        "colab": {}
      },
      "source": [
        "x_scaler = MinMaxScaler()"
      ],
      "execution_count": 0,
      "outputs": []
    },
    {
      "cell_type": "markdown",
      "metadata": {
        "id": "b3HD6UVqG52P",
        "colab_type": "text"
      },
      "source": [
        "## We then detect the range of values from the training-data and scale the training-data."
      ]
    },
    {
      "cell_type": "code",
      "metadata": {
        "id": "daFxFX8_G52Q",
        "colab_type": "code",
        "colab": {}
      },
      "source": [
        "x_train_scaled = x_scaler.fit_transform(x_train)"
      ],
      "execution_count": 0,
      "outputs": []
    },
    {
      "cell_type": "markdown",
      "metadata": {
        "id": "OBjijUVCG52R",
        "colab_type": "text"
      },
      "source": [
        "## part from a small rounding-error, the data has been scaled to be between 0 and 1."
      ]
    },
    {
      "cell_type": "code",
      "metadata": {
        "id": "RTcXEfRfG52S",
        "colab_type": "code",
        "outputId": "bc656bc0-0b48-4a9c-9183-def18b231f09",
        "colab": {
          "base_uri": "https://localhost:8080/",
          "height": 52
        }
      },
      "source": [
        "print(\"Min:\", np.min(x_train_scaled))\n",
        "print(\"Max:\", np.max(x_train_scaled))"
      ],
      "execution_count": 46,
      "outputs": [
        {
          "output_type": "stream",
          "text": [
            "Min: 0.0\n",
            "Max: 1.0\n"
          ],
          "name": "stdout"
        }
      ]
    },
    {
      "cell_type": "markdown",
      "metadata": {
        "id": "_rLwo-iCG52W",
        "colab_type": "text"
      },
      "source": [
        "##  We use the same scaler-object for the input-signals in the test-set."
      ]
    },
    {
      "cell_type": "code",
      "metadata": {
        "id": "wkW9OdBGG52X",
        "colab_type": "code",
        "colab": {}
      },
      "source": [
        "x_test_scaled = x_scaler.transform(x_test)"
      ],
      "execution_count": 0,
      "outputs": []
    },
    {
      "cell_type": "code",
      "metadata": {
        "id": "meq43wyPG52Z",
        "colab_type": "code",
        "colab": {}
      },
      "source": [
        "y_scaler = MinMaxScaler()\n",
        "y_train_scaled = y_scaler.fit_transform(y_train)\n",
        "y_test_scaled = y_scaler.transform(y_test)"
      ],
      "execution_count": 0,
      "outputs": []
    },
    {
      "cell_type": "markdown",
      "metadata": {
        "id": "wVAUgClAG52b",
        "colab_type": "text"
      },
      "source": [
        "## Data Generator"
      ]
    },
    {
      "cell_type": "markdown",
      "metadata": {
        "id": "_8_gDO8xG52c",
        "colab_type": "text"
      },
      "source": [
        "The data-set has now been prepared as 2-dimensional numpy arrays. The training-data has almost 300k observations, consisting of 20 input-signals and 3 output-signals.\n",
        "\n",
        "These are the array-shapes of the input and output data:"
      ]
    },
    {
      "cell_type": "code",
      "metadata": {
        "id": "1hBYud5aG52e",
        "colab_type": "code",
        "outputId": "e60272b0-2d97-40f3-8183-ace15ed673d6",
        "colab": {
          "base_uri": "https://localhost:8080/",
          "height": 52
        }
      },
      "source": [
        "print(x_train_scaled.shape)\n",
        "print(y_train_scaled.shape)"
      ],
      "execution_count": 49,
      "outputs": [
        {
          "output_type": "stream",
          "text": [
            "(193486, 4)\n",
            "(193486, 2)\n"
          ],
          "name": "stdout"
        }
      ]
    },
    {
      "cell_type": "markdown",
      "metadata": {
        "id": "5ocCOh-HG52h",
        "colab_type": "text"
      },
      "source": [
        "Instead of training the Recurrent Neural Network on the complete sequences of almost 300k observations, we will use the following function to create a batch of shorter sub-sequences picked at random from the training-data."
      ]
    },
    {
      "cell_type": "code",
      "metadata": {
        "id": "2HdF_Y7OG52j",
        "colab_type": "code",
        "colab": {}
      },
      "source": [
        "def batch_generator(batch_size, sequence_length):\n",
        "    \"\"\"\n",
        "    Generator function for creating random batches of training-data.\n",
        "    \"\"\"\n",
        "\n",
        "    # Infinite loop.\n",
        "    while True:\n",
        "        # Allocate a new array for the batch of input-signals.\n",
        "        x_shape = (batch_size, sequence_length, num_x_signals)\n",
        "        x_batch = np.zeros(shape=x_shape, dtype=np.float16)\n",
        "\n",
        "        # Allocate a new array for the batch of output-signals.\n",
        "        y_shape = (batch_size, sequence_length, num_y_signals)\n",
        "        y_batch = np.zeros(shape=y_shape, dtype=np.float16)\n",
        "\n",
        "        # Fill the batch with random sequences of data.\n",
        "        for i in range(batch_size):\n",
        "            # Get a random start-index.\n",
        "            # This points somewhere into the training-data.\n",
        "            idx = np.random.randint(num_train - sequence_length)\n",
        "            \n",
        "            # Copy the sequences of data starting at this index.\n",
        "            x_batch[i] = x_train_scaled[idx:idx+sequence_length]\n",
        "            y_batch[i] = y_train_scaled[idx:idx+sequence_length]\n",
        "        \n",
        "        yield (x_batch, y_batch)\n",
        "        "
      ],
      "execution_count": 0,
      "outputs": []
    },
    {
      "cell_type": "code",
      "metadata": {
        "id": "llSuvQ_gzL2b",
        "colab_type": "code",
        "colab": {}
      },
      "source": [
        ""
      ],
      "execution_count": 0,
      "outputs": []
    },
    {
      "cell_type": "markdown",
      "metadata": {
        "id": "UEo9fL87G52m",
        "colab_type": "text"
      },
      "source": [
        "We will use a large batch-size so as to keep the GPU near 100% work-load. You may have to adjust this number depending on your GPU, its RAM and your choice of sequence_length below."
      ]
    },
    {
      "cell_type": "code",
      "metadata": {
        "id": "FnTXwrBCG56V",
        "colab_type": "code",
        "colab": {}
      },
      "source": [
        "batch_size = 200"
      ],
      "execution_count": 0,
      "outputs": []
    },
    {
      "cell_type": "markdown",
      "metadata": {
        "id": "_ZO1L-FTG6IM",
        "colab_type": "text"
      },
      "source": [
        "#### We will use a sequence-length of 80640, which means that each random sequence contains observations for 8 weeks. One time-step corresponds to one hour, so 24 x 7 time-steps corresponds to a week, and 24 x 7 x 8 corresponds to 8 weeks."
      ]
    },
    {
      "cell_type": "code",
      "metadata": {
        "id": "s9n5azGVG6IN",
        "colab_type": "code",
        "outputId": "b4030544-76f7-4ac1-8cd6-0526e4c14ec3",
        "colab": {
          "base_uri": "https://localhost:8080/",
          "height": 35
        }
      },
      "source": [
        "sequence_length = 589 * 7 * 2\n",
        "sequence_length"
      ],
      "execution_count": 116,
      "outputs": [
        {
          "output_type": "execute_result",
          "data": {
            "text/plain": [
              "8246"
            ]
          },
          "metadata": {
            "tags": []
          },
          "execution_count": 116
        }
      ]
    },
    {
      "cell_type": "markdown",
      "metadata": {
        "id": "d7eSKWeeG6IP",
        "colab_type": "text"
      },
      "source": [
        "## We then create the batch-generator."
      ]
    },
    {
      "cell_type": "code",
      "metadata": {
        "id": "5EdAuJ2gG6IQ",
        "colab_type": "code",
        "colab": {}
      },
      "source": [
        "generator = batch_generator(batch_size=batch_size,\n",
        "                            sequence_length=sequence_length)"
      ],
      "execution_count": 0,
      "outputs": []
    },
    {
      "cell_type": "markdown",
      "metadata": {
        "id": "PA_FXyKmG6IT",
        "colab_type": "text"
      },
      "source": [
        "We can then test the batch-generator to see if it works."
      ]
    },
    {
      "cell_type": "code",
      "metadata": {
        "id": "cbD5QRovG6IT",
        "colab_type": "code",
        "colab": {}
      },
      "source": [
        "x_batch, y_batch = next(generator)"
      ],
      "execution_count": 0,
      "outputs": []
    },
    {
      "cell_type": "markdown",
      "metadata": {
        "id": "FBdnfiOpG6IV",
        "colab_type": "text"
      },
      "source": [
        "This gives us a random batch of 256 sequences, each sequence having 80640 observations, and each observation having 8 input-signals and 3 output-signals."
      ]
    },
    {
      "cell_type": "code",
      "metadata": {
        "id": "8LPTc1VzG6IW",
        "colab_type": "code",
        "outputId": "43c4e60b-a7a3-4184-dc5a-117fcd7d5039",
        "colab": {
          "base_uri": "https://localhost:8080/",
          "height": 52
        }
      },
      "source": [
        "print(x_batch.shape)\n",
        "print(y_batch.shape)"
      ],
      "execution_count": 119,
      "outputs": [
        {
          "output_type": "stream",
          "text": [
            "(200, 8246, 4)\n",
            "(200, 8246, 2)\n"
          ],
          "name": "stdout"
        }
      ]
    },
    {
      "cell_type": "markdown",
      "metadata": {
        "id": "TxDn9boOG6IY",
        "colab_type": "text"
      },
      "source": [
        "## We can plot one of the 20 input-signals as an example."
      ]
    },
    {
      "cell_type": "code",
      "metadata": {
        "id": "6afVStzcG6IY",
        "colab_type": "code",
        "outputId": "f7542589-f64c-4541-cf71-df29aabd7251",
        "colab": {
          "base_uri": "https://localhost:8080/",
          "height": 283
        }
      },
      "source": [
        "batch = 0   # First sequence in the batch.\n",
        "signal = 0  # First signal from the 20 input-signals.\n",
        "seq = x_batch[batch, :, signal]\n",
        "plt.plot(seq)"
      ],
      "execution_count": 120,
      "outputs": [
        {
          "output_type": "execute_result",
          "data": {
            "text/plain": [
              "[<matplotlib.lines.Line2D at 0x7fb5c7053fd0>]"
            ]
          },
          "metadata": {
            "tags": []
          },
          "execution_count": 120
        },
        {
          "output_type": "display_data",
          "data": {
            "image/png": "[encoded data removed]",
            "text/plain": [
              "<Figure size 432x288 with 1 Axes>"
            ]
          },
          "metadata": {
            "tags": []
          }
        }
      ]
    },
    {
      "cell_type": "markdown",
      "metadata": {
        "id": "fV9lYmvAG6Ic",
        "colab_type": "text"
      },
      "source": [
        "We can also plot one of the output-signals that we want the model to learn how to predict given all those 20 input signals."
      ]
    },
    {
      "cell_type": "code",
      "metadata": {
        "id": "Nmfx23yeG6If",
        "colab_type": "code",
        "outputId": "3a4de3a6-9c68-4562-a7e1-acc48320ccc3",
        "colab": {
          "base_uri": "https://localhost:8080/",
          "height": 283
        }
      },
      "source": [
        "seq = y_batch[batch, :, signal]\n",
        "plt.plot(seq)"
      ],
      "execution_count": 121,
      "outputs": [
        {
          "output_type": "execute_result",
          "data": {
            "text/plain": [
              "[<matplotlib.lines.Line2D at 0x7fb5c7078be0>]"
            ]
          },
          "metadata": {
            "tags": []
          },
          "execution_count": 121
        },
        {
          "output_type": "display_data",
          "data": {
            "image/png": "[encoded data removed]",
            "text/plain": [
              "<Figure size 432x288 with 1 Axes>"
            ]
          },
          "metadata": {
            "tags": []
          }
        }
      ]
    },
    {
      "cell_type": "markdown",
      "metadata": {
        "id": "TlWiIKgfG6Ig",
        "colab_type": "text"
      },
      "source": [
        "## Validation Set"
      ]
    },
    {
      "cell_type": "markdown",
      "metadata": {
        "id": "eBVKOABAG6Ih",
        "colab_type": "text"
      },
      "source": [
        "The neural network trains quickly so we can easily run many training epochs. But then there is a risk of overfitting the model to the training-set so it does not generalize well to unseen data. We will therefore monitor the model's performance on the test-set after each epoch and only save the model's weights if the performance is improved on the test-set.\n",
        "\n",
        "The batch-generator randomly selects a batch of short sequences from the training-data and uses that during training. But for the validation-data we will instead run through the entire sequence from the test-set and measure the prediction accuracy on that entire sequence."
      ]
    },
    {
      "cell_type": "code",
      "metadata": {
        "id": "pwZXNImDG6Ii",
        "colab_type": "code",
        "outputId": "265dacc5-ad38-4a72-ab24-789e5fd1fc0d",
        "colab": {
          "base_uri": "https://localhost:8080/",
          "height": 260
        }
      },
      "source": [
        "validation_data = (np.expand_dims(x_test_scaled, axis=0), np.expand_dims(y_test_scaled, axis=0))\n",
        "validation_data"
      ],
      "execution_count": 122,
      "outputs": [
        {
          "output_type": "execute_result",
          "data": {
            "text/plain": [
              "(array([[[0.52966009, 0.46890625, 0.47961462, 0.48029172],\n",
              "         [0.53009212, 0.47126736, 0.47977323, 0.47845997],\n",
              "         [0.5300616 , 0.47338542, 0.47997148, 0.4759498 ],\n",
              "         ...,\n",
              "         [0.001692  , 0.55416667, 0.0021889 , 0.56360244],\n",
              "         [0.00153302, 0.55347222, 0.00195725, 0.56309362],\n",
              "         [0.00133879, 0.55329861, 0.00169984, 0.5624152 ]]]),\n",
              " array([[[0.51968198, 0.659375  ],\n",
              "         [0.51990511, 0.659375  ],\n",
              "         [0.5199397 , 0.65920139],\n",
              "         ...,\n",
              "         [0.00353232, 0.59270833],\n",
              "         [0.00350782, 0.59270833],\n",
              "         [0.00343666, 0.5921875 ]]]))"
            ]
          },
          "metadata": {
            "tags": []
          },
          "execution_count": 122
        }
      ]
    },
    {
      "cell_type": "markdown",
      "metadata": {
        "id": "eIruiqnBG6Ik",
        "colab_type": "text"
      },
      "source": [
        "## Create the Recurrent Neural Network"
      ]
    },
    {
      "cell_type": "markdown",
      "metadata": {
        "id": "4INj-WlzG6Im",
        "colab_type": "text"
      },
      "source": [
        "We are now ready to create the Recurrent Neural Network (RNN). We will use the Keras API for this because of its simplicity. See Tutorial #03-C for a tutorial on Keras and Tutorial #20 for more information on Recurrent Neural Networks."
      ]
    },
    {
      "cell_type": "code",
      "metadata": {
        "id": "3MDEnRTIG6Im",
        "colab_type": "code",
        "colab": {}
      },
      "source": [
        "model = Sequential()\n"
      ],
      "execution_count": 0,
      "outputs": []
    },
    {
      "cell_type": "markdown",
      "metadata": {
        "id": "P89FMCf-G6Ip",
        "colab_type": "text"
      },
      "source": [
        "We can now add a Gated Recurrent Unit (GRU) to the network. This will have 512 outputs for each time-step in the sequence.\n",
        "\n",
        "Note that because this is the first layer in the model, Keras needs to know the shape of its input, which is a batch of sequences of arbitrary length (indicated by None), where each observation has a number of input-signals (num_x_signals)."
      ]
    },
    {
      "cell_type": "code",
      "metadata": {
        "id": "ACa90i3FnL3Z",
        "colab_type": "code",
        "colab": {}
      },
      "source": [
        "#TOTAL_INPUTS=589\n",
        "TOTAL_INPUTS=2"
      ],
      "execution_count": 0,
      "outputs": []
    },
    {
      "cell_type": "code",
      "metadata": {
        "scrolled": true,
        "id": "-5qqhdQxG6Ip",
        "colab_type": "code",
        "colab": {}
      },
      "source": [
        "# model.add(Dense(units=256,\n",
        "#               return_sequences=True,\n",
        "#               input_shape=(None, num_x_signals,)))\n",
        "model.add(Dense(units=256,\n",
        "              \n",
        "              input_shape=(None, num_x_signals,)))\n",
        "\n",
        "# model.add(Dense(units=256, input_dim=TOTAL_INPUTS, activation='relu', name='m1_hidden1'))"
      ],
      "execution_count": 0,
      "outputs": []
    },
    {
      "cell_type": "code",
      "metadata": {
        "id": "L75TtoNx2c0z",
        "colab_type": "code",
        "colab": {}
      },
      "source": [
        "model.add(Dense(128, activation='relu', name='m1_hidden1'))\n",
        "model.add(Dense(64, activation='relu', name='m1_hidden2'))\n",
        "model.add(Dense(32, activation='relu', name='m1_hidden3'))\n",
        "model.add(Dense(10, activation='relu', name='m1_hidden4'))\n",
        "\n",
        "# model.add(Dense(128, activation='relu', name='m1_hidden2'))\n",
        "# model.add(Dense(64, activation='relu', name='m1_hidden3'))\n",
        "# model.add(Dense(32, activation='relu', name='m1_hidden4'))\n",
        "# model.add(Dense(10, activation='relu', name='m1_hidden5'))"
      ],
      "execution_count": 0,
      "outputs": []
    },
    {
      "cell_type": "markdown",
      "metadata": {
        "id": "gQ0cPhj3G6Ir",
        "colab_type": "text"
      },
      "source": [
        "The GRU outputs a batch of sequences of 512 values. We want to predict 3 output-signals, so we add a fully-connected (or dense) layer which maps 512 values down to only 3 values.\n",
        "\n",
        "The output-signals in the data-set have been limited to be between 0 and 1 using a scaler-object. So we also limit the output of the neural network using the Sigmoid activation function, which squashes the output to be between 0 and 1."
      ]
    },
    {
      "cell_type": "code",
      "metadata": {
        "id": "AJszgCN9G6Is",
        "colab_type": "code",
        "colab": {}
      },
      "source": [
        "model.add(Dense(num_y_signals, activation='sigmoid'))"
      ],
      "execution_count": 0,
      "outputs": []
    },
    {
      "cell_type": "markdown",
      "metadata": {
        "id": "PD3PmfR0G6Iu",
        "colab_type": "text"
      },
      "source": [
        "A problem with using the Sigmoid activation function, is that we can now only output values in the same range as the training-data.\n",
        "\n",
        "For example, if the training-data only has temperatures between -20 and +30 degrees, then the scaler-object will map -20 to 0 and +30 to 1. So if we limit the output of the neural network to be between 0 and 1 using the Sigmoid function, this can only be mapped back to temperature values between -20 and +30.\n",
        "\n",
        "We can use a linear activation function on the output instead. This allows for the output to take on arbitrary values. It might work with the standard initialization for a simple network architecture, but for more complicated network architectures e.g. with more layers, it might be necessary to initialize the weights with smaller values to avoid NaN values during training. You may need to experiment with this to get it working."
      ]
    },
    {
      "cell_type": "code",
      "metadata": {
        "id": "1sMgdX9OG6U2",
        "colab_type": "code",
        "colab": {}
      },
      "source": [
        "if False:\n",
        "    from tensorflow.python.keras.initializers import RandomUniform\n",
        "\n",
        "    # Maybe use lower init-ranges.\n",
        "    init = RandomUniform(minval=-0.05, maxval=0.05)\n",
        "\n",
        "    model.add(Dense(num_y_signals,\n",
        "                    activation='linear',\n",
        "                    kernel_initializer=init))"
      ],
      "execution_count": 0,
      "outputs": []
    },
    {
      "cell_type": "markdown",
      "metadata": {
        "id": "ufx47tJNG6U5",
        "colab_type": "text"
      },
      "source": [
        "## Loss Function"
      ]
    },
    {
      "cell_type": "markdown",
      "metadata": {
        "id": "GwZpxDj5G6U6",
        "colab_type": "text"
      },
      "source": [
        "We will use Mean Squared Error (MSE) as the loss-function that will be minimized. This measures how closely the model's output matches the true output signals.\n",
        "\n",
        "However, at the beginning of a sequence, the model has only seen input-signals for a few time-steps, so its generated output may be very inaccurate. Using the loss-value for the early time-steps may cause the model to distort its later output. We therefore give the model a \"warmup-period\" of 50 time-steps where we don't use its accuracy in the loss-function, in hope of improving the accuracy for later time-steps."
      ]
    },
    {
      "cell_type": "code",
      "metadata": {
        "id": "c0BK1fdjG6U6",
        "colab_type": "code",
        "colab": {}
      },
      "source": [
        "warmup_steps = 20"
      ],
      "execution_count": 0,
      "outputs": []
    },
    {
      "cell_type": "code",
      "metadata": {
        "id": "P2WurxbNG6U9",
        "colab_type": "code",
        "colab": {}
      },
      "source": [
        "def loss_mse_warmup(y_true, y_pred):\n",
        "    \"\"\"\n",
        "    Calculate the Mean Squared Error between y_true and y_pred,\n",
        "    but ignore the beginning \"warmup\" part of the sequences.\n",
        "    \n",
        "    y_true is the desired output.\n",
        "    y_pred is the model's output.\n",
        "    \"\"\"\n",
        "\n",
        "    # The shape of both input tensors are:\n",
        "    # [batch_size, sequence_length, num_y_signals].\n",
        "\n",
        "    # Ignore the \"warmup\" parts of the sequences\n",
        "    # by taking slices of the tensors.\n",
        "    y_true_slice = y_true[:, warmup_steps:, :]\n",
        "    y_pred_slice = y_pred[:, warmup_steps:, :]\n",
        "\n",
        "    # These sliced tensors both have this shape:\n",
        "    # [batch_size, sequence_length - warmup_steps, num_y_signals]\n",
        "\n",
        "    # Calculate the MSE loss for each value in these tensors.\n",
        "    # This outputs a 3-rank tensor of the same shape.\n",
        "    loss = tf.losses.mean_squared_error(labels=y_true_slice,\n",
        "                                        predictions=y_pred_slice)\n",
        "\n",
        "    # Keras may reduce this across the first axis (the batch)\n",
        "    # but the semantics are unclear, so to be sure we use\n",
        "    # the loss across the entire tensor, we reduce it to a\n",
        "    # single scalar with the mean function.\n",
        "    loss_mean = tf.reduce_mean(loss)\n",
        "\n",
        "    return loss_mean"
      ],
      "execution_count": 0,
      "outputs": []
    },
    {
      "cell_type": "markdown",
      "metadata": {
        "id": "uRWyoPN3G6U_",
        "colab_type": "text"
      },
      "source": [
        "## Compile the model"
      ]
    },
    {
      "cell_type": "markdown",
      "metadata": {
        "id": "TA-3d-PIG6VA",
        "colab_type": "text"
      },
      "source": [
        "#### This is the optimizer and the beginning learning-rate that we will use."
      ]
    },
    {
      "cell_type": "code",
      "metadata": {
        "id": "t-LwZtx-G6VB",
        "colab_type": "code",
        "colab": {}
      },
      "source": [
        "optimizer = RMSprop(lr=1e-3)"
      ],
      "execution_count": 0,
      "outputs": []
    },
    {
      "cell_type": "markdown",
      "metadata": {
        "id": "sBsJs2iMG6VM",
        "colab_type": "text"
      },
      "source": [
        "### We then compile the Keras model so it is ready for training."
      ]
    },
    {
      "cell_type": "code",
      "metadata": {
        "id": "bdJm3OsXG6VM",
        "colab_type": "code",
        "colab": {}
      },
      "source": [
        "model.compile(loss=loss_mse_warmup, optimizer=optimizer, \n",
        "                metrics=['accuracy'])\n"
      ],
      "execution_count": 0,
      "outputs": []
    },
    {
      "cell_type": "markdown",
      "metadata": {
        "id": "5jys_ovhG6VQ",
        "colab_type": "text"
      },
      "source": [
        "This is a very small model with only two layers. The output shape of (None, None, 3) means that the model will output a batch with an arbitrary number of sequences, each of which has an arbitrary number of observations, and each observation has 3 signals. This corresponds to the 3 target signals we want to predict."
      ]
    },
    {
      "cell_type": "code",
      "metadata": {
        "id": "hGCxGuRXG6VS",
        "colab_type": "code",
        "outputId": "39f2b66f-4b69-4019-c540-489c53e8b649",
        "colab": {
          "base_uri": "https://localhost:8080/",
          "height": 364
        }
      },
      "source": [
        "model.summary()\n"
      ],
      "execution_count": 133,
      "outputs": [
        {
          "output_type": "stream",
          "text": [
            "Model: \"sequential_2\"\n",
            "_________________________________________________________________\n",
            "Layer (type)                 Output Shape              Param #   \n",
            "=================================================================\n",
            "dense_4 (Dense)              (None, None, 256)         1280      \n",
            "_________________________________________________________________\n",
            "m1_hidden1 (Dense)           (None, None, 128)         32896     \n",
            "_________________________________________________________________\n",
            "m1_hidden2 (Dense)           (None, None, 64)          8256      \n",
            "_________________________________________________________________\n",
            "m1_hidden3 (Dense)           (None, None, 32)          2080      \n",
            "_________________________________________________________________\n",
            "m1_hidden4 (Dense)           (None, None, 10)          330       \n",
            "_________________________________________________________________\n",
            "dense_5 (Dense)              (None, None, 2)           22        \n",
            "=================================================================\n",
            "Total params: 44,864\n",
            "Trainable params: 44,864\n",
            "Non-trainable params: 0\n",
            "_________________________________________________________________\n"
          ],
          "name": "stdout"
        }
      ]
    },
    {
      "cell_type": "markdown",
      "metadata": {
        "id": "jv96DWU3G6VY",
        "colab_type": "text"
      },
      "source": [
        "## Callback Functions"
      ]
    },
    {
      "cell_type": "markdown",
      "metadata": {
        "id": "3aEGBcfFG6VZ",
        "colab_type": "text"
      },
      "source": [
        "During training we want to save checkpoints and log the progress to TensorBoard so we create the appropriate callbacks for Keras.\n",
        "\n",
        "This is the callback for writing checkpoints during training."
      ]
    },
    {
      "cell_type": "code",
      "metadata": {
        "id": "ZMT2fqQEG6Va",
        "colab_type": "code",
        "colab": {}
      },
      "source": [
        "path_checkpoint = '23_checkpoint.keras'\n",
        "callback_checkpoint = ModelCheckpoint(filepath=path_checkpoint,\n",
        "                                      monitor='val_loss',\n",
        "                                      verbose=1,\n",
        "                                      save_weights_only=True,\n",
        "                                      save_best_only=True)"
      ],
      "execution_count": 0,
      "outputs": []
    },
    {
      "cell_type": "markdown",
      "metadata": {
        "id": "kPMZ2Hj1G6Vh",
        "colab_type": "text"
      },
      "source": [
        "This is the callback for stopping the optimization when performance worsens on the validation-set."
      ]
    },
    {
      "cell_type": "code",
      "metadata": {
        "id": "tIN_N7IBG6Vi",
        "colab_type": "code",
        "colab": {}
      },
      "source": [
        "callback_early_stopping = EarlyStopping(monitor='val_loss',\n",
        "                                        patience=5, verbose=1)"
      ],
      "execution_count": 0,
      "outputs": []
    },
    {
      "cell_type": "markdown",
      "metadata": {
        "id": "jQrwwOcPG6Vl",
        "colab_type": "text"
      },
      "source": [
        "This is the callback for writing the TensorBoard log during training."
      ]
    },
    {
      "cell_type": "code",
      "metadata": {
        "id": "pmWV97QrG6Vl",
        "colab_type": "code",
        "colab": {}
      },
      "source": [
        "callback_tensorboard = TensorBoard(log_dir='./23_logs/',\n",
        "                                   histogram_freq=0,\n",
        "                                   write_graph=False)"
      ],
      "execution_count": 0,
      "outputs": []
    },
    {
      "cell_type": "markdown",
      "metadata": {
        "id": "j5AbgzV3G6Vn",
        "colab_type": "text"
      },
      "source": [
        "This callback reduces the learning-rate for the optimizer if the validation-loss has not improved since the last epoch (as indicated by patience=0). The learning-rate will be reduced by multiplying it with the given factor. We set a start learning-rate of 1e-3 above, so multiplying it by 0.1 gives a learning-rate of 1e-4. We don't want the learning-rate to go any lower than this."
      ]
    },
    {
      "cell_type": "code",
      "metadata": {
        "id": "wsm91CcCG6Vo",
        "colab_type": "code",
        "colab": {}
      },
      "source": [
        "callback_reduce_lr = ReduceLROnPlateau(monitor='val_loss',\n",
        "                                       factor=0.1,\n",
        "                                       min_lr=1e-4,\n",
        "                                       patience=0,\n",
        "                                       verbose=1)"
      ],
      "execution_count": 0,
      "outputs": []
    },
    {
      "cell_type": "code",
      "metadata": {
        "id": "cxxTC7TiG6Vr",
        "colab_type": "code",
        "colab": {}
      },
      "source": [
        "callbacks = [callback_early_stopping,\n",
        "             callback_checkpoint,\n",
        "             callback_tensorboard,\n",
        "             callback_reduce_lr]"
      ],
      "execution_count": 0,
      "outputs": []
    },
    {
      "cell_type": "markdown",
      "metadata": {
        "id": "pTcsDphHG6Vy",
        "colab_type": "text"
      },
      "source": [
        "## Train the Recurrent Neural Network"
      ]
    },
    {
      "cell_type": "markdown",
      "metadata": {
        "id": "Rh7r0-GgG6Vz",
        "colab_type": "text"
      },
      "source": [
        "We can now train the neural network.\n",
        "\n",
        "Note that a single \"epoch\" does not correspond to a single processing of the training-set, because of how the batch-generator randomly selects sub-sequences from the training-set. Instead we have selected steps_per_epoch so that one \"epoch\" is processed in a few minutes.\n",
        "\n",
        "With these settings, each \"epoch\" took about 2.5 minutes to process on a GTX 1070. After 14 \"epochs\" the optimization was stopped because the validation-loss had not decreased for 5 \"epochs\". This optimization took about 35 minutes to finish.\n",
        "\n",
        "Also note that the loss sometimes becomes NaN (not-a-number). This is often resolved by restarting and running the Notebook again. But it may also be caused by your neural network architecture, learning-rate, batch-size, sequence-length, etc. in which case you may have to modify those settings."
      ]
    },
    {
      "cell_type": "code",
      "metadata": {
        "scrolled": true,
        "id": "VXH-IQZlG6Vz",
        "colab_type": "code",
        "outputId": "93617243-3e78-4f21-e293-02ef1cd460d3",
        "colab": {
          "base_uri": "https://localhost:8080/",
          "height": 1000
        }
      },
      "source": [
        "%%time\n",
        "model.fit_generator(generator=generator,\n",
        "                    epochs=20,\n",
        "                    steps_per_epoch=200,\n",
        "                    validation_data=validation_data,\n",
        "                    callbacks=callbacks,\n",
        "                    )"
      ],
      "execution_count": 139,
      "outputs": [
        {
          "output_type": "stream",
          "text": [
            "Epoch 1/20\n",
            "199/200 [============================>.] - ETA: 0s - loss: 0.0239 - acc: 0.9216Epoch 1/20\n",
            "  1/200 [..............................] - ETA: 20s - loss: 0.0247 - acc: 0.9337\n",
            "Epoch 00001: val_loss improved from inf to 0.02465, saving model to 23_checkpoint.keras\n",
            "200/200 [==============================] - 55s 274ms/step - loss: 0.0239 - acc: 0.9217 - val_loss: 0.0247 - val_acc: 0.9337\n",
            "Epoch 2/20\n",
            "199/200 [============================>.] - ETA: 0s - loss: 0.0197 - acc: 0.9238Epoch 1/20\n",
            "  1/200 [..............................] - ETA: 1s - loss: 0.0263 - acc: 0.9384\n",
            "Epoch 00002: val_loss did not improve from 0.02465\n",
            "\n",
            "Epoch 00002: ReduceLROnPlateau reducing learning rate to 0.00010000000474974513.\n",
            "200/200 [==============================] - 54s 268ms/step - loss: 0.0197 - acc: 0.9238 - val_loss: 0.0263 - val_acc: 0.9384\n",
            "Epoch 3/20\n",
            "199/200 [============================>.] - ETA: 0s - loss: 0.0188 - acc: 0.9238Epoch 1/20\n",
            "  1/200 [..............................] - ETA: 1s - loss: 0.0202 - acc: 0.9373\n",
            "Epoch 00003: val_loss improved from 0.02465 to 0.02022, saving model to 23_checkpoint.keras\n",
            "200/200 [==============================] - 54s 268ms/step - loss: 0.0188 - acc: 0.9237 - val_loss: 0.0202 - val_acc: 0.9373\n",
            "Epoch 4/20\n",
            "199/200 [============================>.] - ETA: 0s - loss: 0.0188 - acc: 0.9238Epoch 1/20\n",
            "  1/200 [..............................] - ETA: 1s - loss: 0.0203 - acc: 0.9371\n",
            "Epoch 00004: val_loss did not improve from 0.02022\n",
            "\n",
            "Epoch 00004: ReduceLROnPlateau reducing learning rate to 0.0001.\n",
            "200/200 [==============================] - 53s 267ms/step - loss: 0.0188 - acc: 0.9238 - val_loss: 0.0203 - val_acc: 0.9371\n",
            "Epoch 5/20\n",
            "199/200 [============================>.] - ETA: 0s - loss: 0.0187 - acc: 0.9239Epoch 1/20\n",
            "  1/200 [..............................] - ETA: 1s - loss: 0.0205 - acc: 0.9372\n",
            "Epoch 00005: val_loss did not improve from 0.02022\n",
            "200/200 [==============================] - 53s 267ms/step - loss: 0.0187 - acc: 0.9239 - val_loss: 0.0205 - val_acc: 0.9372\n",
            "Epoch 6/20\n",
            "199/200 [============================>.] - ETA: 0s - loss: 0.0188 - acc: 0.9232Epoch 1/20\n",
            "  1/200 [..............................] - ETA: 1s - loss: 0.0201 - acc: 0.9371\n",
            "Epoch 00006: val_loss improved from 0.02022 to 0.02014, saving model to 23_checkpoint.keras\n",
            "200/200 [==============================] - 53s 267ms/step - loss: 0.0187 - acc: 0.9232 - val_loss: 0.0201 - val_acc: 0.9371\n",
            "Epoch 7/20\n",
            "199/200 [============================>.] - ETA: 0s - loss: 0.0186 - acc: 0.9237Epoch 1/20\n",
            "  1/200 [..............................] - ETA: 1s - loss: 0.0198 - acc: 0.9373\n",
            "Epoch 00007: val_loss improved from 0.02014 to 0.01981, saving model to 23_checkpoint.keras\n",
            "200/200 [==============================] - 53s 267ms/step - loss: 0.0186 - acc: 0.9236 - val_loss: 0.0198 - val_acc: 0.9373\n",
            "Epoch 8/20\n",
            "199/200 [============================>.] - ETA: 0s - loss: 0.0186 - acc: 0.9245Epoch 1/20\n",
            "  1/200 [..............................] - ETA: 1s - loss: 0.0201 - acc: 0.9377\n",
            "Epoch 00008: val_loss did not improve from 0.01981\n",
            "200/200 [==============================] - 53s 267ms/step - loss: 0.0186 - acc: 0.9245 - val_loss: 0.0201 - val_acc: 0.9377\n",
            "Epoch 9/20\n",
            "199/200 [============================>.] - ETA: 0s - loss: 0.0185 - acc: 0.9234Epoch 1/20\n",
            "  1/200 [..............................] - ETA: 1s - loss: 0.0199 - acc: 0.9380\n",
            "Epoch 00009: val_loss did not improve from 0.01981\n",
            "200/200 [==============================] - 53s 267ms/step - loss: 0.0185 - acc: 0.9234 - val_loss: 0.0199 - val_acc: 0.9380\n",
            "Epoch 10/20\n",
            "199/200 [============================>.] - ETA: 0s - loss: 0.0185 - acc: 0.9238Epoch 1/20\n",
            "  1/200 [..............................] - ETA: 1s - loss: 0.0200 - acc: 0.9385\n",
            "Epoch 00010: val_loss did not improve from 0.01981\n",
            "200/200 [==============================] - 53s 267ms/step - loss: 0.0185 - acc: 0.9238 - val_loss: 0.0200 - val_acc: 0.9385\n",
            "Epoch 11/20\n",
            "199/200 [============================>.] - ETA: 0s - loss: 0.0184 - acc: 0.9238Epoch 1/20\n",
            "  1/200 [..............................] - ETA: 1s - loss: 0.0201 - acc: 0.9387\n",
            "Epoch 00011: val_loss did not improve from 0.01981\n",
            "200/200 [==============================] - 53s 266ms/step - loss: 0.0184 - acc: 0.9238 - val_loss: 0.0201 - val_acc: 0.9387\n",
            "Epoch 12/20\n",
            "199/200 [============================>.] - ETA: 0s - loss: 0.0184 - acc: 0.9253Epoch 1/20\n",
            "  1/200 [..............................] - ETA: 1s - loss: 0.0200 - acc: 0.9388\n",
            "Epoch 00012: val_loss did not improve from 0.01981\n",
            "200/200 [==============================] - 53s 267ms/step - loss: 0.0184 - acc: 0.9253 - val_loss: 0.0200 - val_acc: 0.9388\n",
            "Epoch 00012: early stopping\n",
            "CPU times: user 10min 1s, sys: 2min 49s, total: 12min 51s\n",
            "Wall time: 10min 42s\n"
          ],
          "name": "stdout"
        },
        {
          "output_type": "execute_result",
          "data": {
            "text/plain": [
              "<tensorflow.python.keras.callbacks.History at 0x7fb5c6ebe9b0>"
            ]
          },
          "metadata": {
            "tags": []
          },
          "execution_count": 139
        }
      ]
    },
    {
      "cell_type": "code",
      "metadata": {
        "id": "W7En6RY7G6V3",
        "colab_type": "code",
        "colab": {}
      },
      "source": [
        "try:\n",
        "    model.load_weights(path_checkpoint)\n",
        "except Exception as error:\n",
        "    print(\"Error trying to load checkpoint.\")\n",
        "    print(error)"
      ],
      "execution_count": 0,
      "outputs": []
    },
    {
      "cell_type": "markdown",
      "metadata": {
        "id": "86BSK4IMG6V5",
        "colab_type": "text"
      },
      "source": [
        "## Performance Test"
      ]
    },
    {
      "cell_type": "markdown",
      "metadata": {
        "id": "mxIzmVf4G6V6",
        "colab_type": "text"
      },
      "source": [
        "We can now evaluate the model's performance on the test-set. This function expects a batch of data, but we will just use one long time-series for the test-set, so we just expand the array-dimensionality to create a batch with that one sequence."
      ]
    },
    {
      "cell_type": "code",
      "metadata": {
        "id": "ky5jtTqnG6V7",
        "colab_type": "code",
        "outputId": "55daaa36-cf24-4db3-85c2-3349aa4c3810",
        "colab": {
          "base_uri": "https://localhost:8080/",
          "height": 35
        }
      },
      "source": [
        "result = model.evaluate(x=np.expand_dims(x_test_scaled, axis=0),\n",
        "                        y=np.expand_dims(y_test_scaled, axis=0))"
      ],
      "execution_count": 141,
      "outputs": [
        {
          "output_type": "stream",
          "text": [
            "\r1/1 [==============================] - 0s 5ms/sample - loss: 0.0198 - acc: 0.9373\n"
          ],
          "name": "stdout"
        }
      ]
    },
    {
      "cell_type": "code",
      "metadata": {
        "id": "I6aUqRYiG6V_",
        "colab_type": "code",
        "outputId": "49a0aab0-9686-4b78-d97c-e0c88580d870",
        "colab": {
          "base_uri": "https://localhost:8080/",
          "height": 35
        }
      },
      "source": [
        "print(\"loss (test-set):\", result)"
      ],
      "execution_count": 142,
      "outputs": [
        {
          "output_type": "stream",
          "text": [
            "loss (test-set): [0.01980603113770485, 0.93729943]\n"
          ],
          "name": "stdout"
        }
      ]
    },
    {
      "cell_type": "markdown",
      "metadata": {
        "id": "N0x2EVWTG6WC",
        "colab_type": "text"
      },
      "source": [
        "## Generate Predictions"
      ]
    },
    {
      "cell_type": "code",
      "metadata": {
        "id": "gtTRTwI8G6WE",
        "colab_type": "code",
        "colab": {}
      },
      "source": [
        "def plot_comparison(start_idx, length=100, train=True):\n",
        "    \"\"\"\n",
        "    Plot the predicted and true output-signals.\n",
        "    \n",
        "    :param start_idx: Start-index for the time-series.\n",
        "    :param length: Sequence-length to process and plot.\n",
        "    :param train: Boolean whether to use training- or test-set.\n",
        "    \"\"\"\n",
        "    \n",
        "    if train:\n",
        "        # Use training-data.\n",
        "        x = x_train_scaled\n",
        "        y_true = y_train\n",
        "    else:\n",
        "        # Use test-data.\n",
        "        x = x_test_scaled\n",
        "        y_true = y_test\n",
        "    \n",
        "    # End-index for the sequences.\n",
        "    end_idx = start_idx + length\n",
        "    \n",
        "    # Select the sequences from the given start-index and\n",
        "    # of the given length.\n",
        "    x = x[start_idx:end_idx]\n",
        "    y_true = y_true[start_idx:end_idx]\n",
        "    \n",
        "    # Input-signals for the model.\n",
        "    x = np.expand_dims(x, axis=0)\n",
        "\n",
        "    # Use the model to predict the output-signals.\n",
        "    y_pred = model.predict(x)\n",
        "    \n",
        "    # The output of the model is between 0 and 1.\n",
        "    # Do an inverse map to get it back to the scale\n",
        "    # of the original data-set.\n",
        "    y_pred_rescaled = y_scaler.inverse_transform(y_pred[0])\n",
        "    \n",
        "    # For each output-signal.\n",
        "    for signal in range(len(target_names)):\n",
        "        # Get the output-signal predicted by the model.\n",
        "        signal_pred = y_pred_rescaled[:, signal]\n",
        "        \n",
        "        # Get the true output-signal from the data-set.\n",
        "        signal_true = y_true[:, signal]\n",
        "\n",
        "        # Make the plotting-canvas bigger.\n",
        "        plt.figure(figsize=(15,5))\n",
        "        \n",
        "        # Plot and compare the two signals.\n",
        "        plt.plot(signal_true, label='true')\n",
        "        plt.plot(signal_pred, label='pred')\n",
        "        \n",
        "        # Plot grey box for warmup-period.\n",
        "        p = plt.axvspan(0, warmup_steps, facecolor='black', alpha=0.15)\n",
        "        \n",
        "        # Plot labels etc.\n",
        "        plt.ylabel(target_names[signal])\n",
        "        plt.legend()\n",
        "        plt.show()"
      ],
      "execution_count": 0,
      "outputs": []
    },
    {
      "cell_type": "code",
      "metadata": {
        "id": "4t8xHW4vG6WG",
        "colab_type": "code",
        "outputId": "e4fbedfa-ac98-4edf-8f6a-f833eed496c8",
        "colab": {
          "base_uri": "https://localhost:8080/",
          "height": 643
        }
      },
      "source": [
        "plot_comparison(start_idx=1000, length=10000, train=True)"
      ],
      "execution_count": 144,
      "outputs": [
        {
          "output_type": "display_data",
          "data": {
            "image/png": "[encoded data removed]",
            "text/plain": [
              "<Figure size 1080x360 with 1 Axes>"
            ]
          },
          "metadata": {
            "tags": []
          }
        },
        {
          "output_type": "display_data",
          "data": {
            "image/png": "[encoded data removed]",
            "text/plain": [
              "<Figure size 1080x360 with 1 Axes>"
            ]
          },
          "metadata": {
            "tags": []
          }
        }
      ]
    },
    {
      "cell_type": "code",
      "metadata": {
        "id": "pPo9G4tpG6WL",
        "colab_type": "code",
        "outputId": "bad20ffc-2679-4b88-8b81-1141391e9fc9",
        "colab": {
          "base_uri": "https://localhost:8080/",
          "height": 643
        }
      },
      "source": [
        "plot_comparison(start_idx=200, length=10000, train=True)"
      ],
      "execution_count": 145,
      "outputs": [
        {
          "output_type": "display_data",
          "data": {
            "image/png": "[encoded data removed]",
            "text/plain": [
              "<Figure size 1080x360 with 1 Axes>"
            ]
          },
          "metadata": {
            "tags": []
          }
        },
        {
          "output_type": "display_data",
          "data": {
            "image/png": "[encoded data removed]",
            "text/plain": [
              "<Figure size 1080x360 with 1 Axes>"
            ]
          },
          "metadata": {
            "tags": []
          }
        }
      ]
    },
    {
      "cell_type": "code",
      "metadata": {
        "id": "kEPCJxp5Mi4A",
        "colab_type": "code",
        "colab": {}
      },
      "source": [
        ""
      ],
      "execution_count": 0,
      "outputs": []
    }
  ]
}